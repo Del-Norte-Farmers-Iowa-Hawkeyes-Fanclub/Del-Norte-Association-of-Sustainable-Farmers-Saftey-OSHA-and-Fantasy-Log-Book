{
 "cells": [
  {
   "cell_type": "code",
   "execution_count": 8,
   "metadata": {
    "vscode": {
     "languageId": "java"
    }
   },
   "outputs": [
    {
     "name": "stdout",
     "output_type": "stream",
     "text": [
      "14 8 6 9 21 18 12  \n",
      "6 8 9 12 14 18 21 "
     ]
    }
   ],
   "source": [
    "public class QuickSort {\n",
    "    public void swap(int[] arr, int i, int j) {\n",
    "        int temp = arr[i];\n",
    "        arr[i] = arr[j];\n",
    "        arr[j] = temp;\n",
    "    }\n",
    "\n",
    "    public int partition(int[] arr, int low, int high) {\n",
    "        int pivot = arr[high];\n",
    "        int i = low-1;\n",
    "        for(int j = low; j <= high-1; j++) {\n",
    "            if (arr[j] < pivot) {\n",
    "                i++;\n",
    "                swap(arr, i, j);\n",
    "            }\n",
    "        }\n",
    "        swap(arr, i+1, high);\n",
    "        return (i+1);\n",
    "    }\n",
    "\n",
    "    public void quickSort(int[] arr, int low, int high) {\n",
    "        if (low < high) {\n",
    "            int partInd = partition(arr, low, high);\n",
    "            quickSort(arr, low, partInd-1);\n",
    "            quickSort(arr, partInd+1, high);\n",
    "        }\n",
    "    }\n",
    "}\n",
    "\n",
    "public class Test {\n",
    "    public static void main(String[] args) {\n",
    "        QuickSort quickSort = new QuickSort();\n",
    "        int[] arr = {14, 8, 6, 9, 21, 18, 12};\n",
    "        int arrLen = arr.length;\n",
    "        for(int i = 0; i<arr.length; i++) {\n",
    "            System.out.print(arr[i] + \" \");\n",
    "        }\n",
    "        System.out.println(\" \");\n",
    "        quickSort.quickSort(arr, 0, arrLen-1);\n",
    "        for(int i = 0; i<arr.length; i++) {\n",
    "            System.out.print(arr[i] + \" \");\n",
    "        }\n",
    "    }\n",
    "}\n",
    "Test.main(null);\n"
   ]
  }
 ],
 "metadata": {
  "kernelspec": {
   "display_name": "Java",
   "language": "java",
   "name": "java"
  },
  "language_info": {
   "codemirror_mode": "java",
   "file_extension": ".jshell",
   "mimetype": "text/x-java-source",
   "name": "Java",
   "pygments_lexer": "java",
   "version": "21.0.2+13-LTS"
  }
 },
 "nbformat": 4,
 "nbformat_minor": 2
}
