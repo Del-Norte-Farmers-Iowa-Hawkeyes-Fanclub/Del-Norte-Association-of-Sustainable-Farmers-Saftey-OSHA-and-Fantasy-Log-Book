{
 "cells": [
  {
   "cell_type": "markdown",
   "metadata": {},
   "source": [
    "---\n",
    "toc: true\n",
    "comments: true\n",
    "layout: notebook\n",
    "title: Algo-Rythmic Code\n",
    "description: Code and explanations for sorting algos\n",
    "courses: { compsci: {week: 28} }\n",
    "type: tangibles\n",
    "authors: Vinay Rajagopalan\n",
    "---"
   ]
  },
  {
   "cell_type": "markdown",
   "metadata": {},
   "source": [
    "## Explanation of QuickSort\n",
    "First, a pivot is selected and compares itself against every other element in the array, and smaller elements move to the left of the pivot, and larger elements to the right. Spliting the list into 2 sub arrays: values less than the pivot, and values greater than the pivot. Then the quick sort function is recursively called and a new pivot is selected. This continues on and on, for each subarray, until the array is fully sorted. "
   ]
  },
  {
   "cell_type": "markdown",
   "metadata": {},
   "source": [
    "## Explanation of Sorting complexity\n",
    "As we iterate through our input positions, we will have O(n) time complexity. Then, when we split the array into 2 smaller component arrays we’ll have an O(log (n)) complexity, creating a total time complexity of O(n log(n)). Then,  we make a recursive call on each of our component arrays, looking at each element and then continuing to split it into its own component arrays, thus creating another O(n log(n)) call. "
   ]
  },
  {
   "cell_type": "code",
   "execution_count": 20,
   "metadata": {},
   "outputs": [
    {
     "name": "stdout",
     "output_type": "stream",
     "text": [
      "\n",
      "The starting array is: \n",
      "The percent for this carton is: 6% \n",
      "The percent for this carton is: 4% \n",
      "The percent for this carton is: 3% \n",
      "The percent for this carton is: 1% \n",
      "The percent for this carton is: 7% \n",
      "The percent for this carton is: 2% \n",
      "The percent for this carton is: 8% \n",
      "The percent for this carton is: 5% \n",
      "\n",
      "And the final array is: \n",
      "The percent for this carton is: 1% \n",
      "The percent for this carton is: 2% \n",
      "The percent for this carton is: 3% \n",
      "The percent for this carton is: 4% \n",
      "The percent for this carton is: 5% \n",
      "The percent for this carton is: 6% \n",
      "The percent for this carton is: 7% \n",
      "The percent for this carton is: 8% \n",
      "\n",
      "And it took 0 milliseconds to sort\n"
     ]
    }
   ],
   "source": [
    "public class Carton {\n",
    "    private int percent;\n",
    "    public Carton(int percent) {\n",
    "        this.percent = percent;\n",
    "    }\n",
    "\n",
    "    public int getPercent() {\n",
    "        return percent;\n",
    "    }\n",
    "\n",
    "    @Override\n",
    "    public String toString() {\n",
    "        return \"The percent for this carton is: \" + percent;\n",
    "    }\n",
    "}\n",
    "\n",
    "public class OrangeCarton {\n",
    "    private Carton[] orangeJuice = new Carton[8];\n",
    "    public OrangeCarton(Carton[] orangeJuice) {\n",
    "        this.orangeJuice = orangeJuice;\n",
    "    }\n",
    "    public void swap(int i, int j) {\n",
    "        Carton temp = orangeJuice[i];\n",
    "        orangeJuice[i] = orangeJuice[j];\n",
    "        orangeJuice[j] = temp;\n",
    "    }\n",
    "\n",
    "    public int partition(int low, int high) {\n",
    "        int pivot = orangeJuice[high].getPercent();\n",
    "        int i = low-1;\n",
    "        for(int j = low; j <= high-1; j++) {\n",
    "            if (orangeJuice[j].getPercent() < pivot) {\n",
    "                i++;\n",
    "                swap(i, j);\n",
    "            }\n",
    "        }\n",
    "        swap(i+1, high);\n",
    "        return (i+1);\n",
    "    }\n",
    "\n",
    "    public void quickSort(int low, int high) {\n",
    "        if (low < high) {\n",
    "            int partInd = partition(low, high);\n",
    "            quickSort(low, partInd-1);\n",
    "            quickSort(partInd+1, high);\n",
    "        }\n",
    "    }\n",
    "}\n",
    "\n",
    "public class Test {\n",
    "    public static void main(String[] args) {\n",
    "        Carton[] arr = {new Carton(6), new Carton(4), new Carton(3), new Carton(1), new Carton(7), new Carton(2), new Carton(8), new Carton(5)};\n",
    "        OrangeCarton orangeCarton = new OrangeCarton(arr);\n",
    "        int arrLen = arr.length;\n",
    "        System.out.println(\"\\nThe starting array is: \");\n",
    "        for (Carton carton: arr) {\n",
    "            System.out.println(carton+\"% \");\n",
    "        }\n",
    "        long start = System.currentTimeMillis();\n",
    "        orangeCarton.quickSort(0, arrLen-1);\n",
    "        long finish = System.currentTimeMillis();\n",
    "        long timeElapsed = finish - start;\n",
    "        System.out.println(\"\\nAnd the final array is: \");\n",
    "        for (Carton carton: arr) {\n",
    "            System.out.println(carton+\"% \");\n",
    "        }\n",
    "        System.out.println(\"\\nAnd it took \" + timeElapsed + \" milliseconds to sort\");\n",
    "    }\n",
    "}\n",
    "Test.main(null);\n"
   ]
  }
 ],
 "metadata": {
  "kernelspec": {
   "display_name": "Java",
   "language": "java",
   "name": "java"
  },
  "language_info": {
   "codemirror_mode": "java",
   "file_extension": ".jshell",
   "mimetype": "text/x-java-source",
   "name": "java",
   "pygments_lexer": "java",
   "version": "21.0.2+13-LTS"
  }
 },
 "nbformat": 4,
 "nbformat_minor": 2
}
