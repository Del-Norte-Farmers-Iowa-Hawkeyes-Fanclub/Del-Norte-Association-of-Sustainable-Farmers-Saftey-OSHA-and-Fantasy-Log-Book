{
 "cells": [
  {
   "cell_type": "markdown",
   "metadata": {},
   "source": [
    "---\n",
    "toc: true\n",
    "comments: true\n",
    "layout: notebook\n",
    "title: The difference between Value and Reference Types \n",
    "description: The difference in the application and use of Value and Reference types in Java.\n",
    "courses: { compsci: {week: 37} }\n",
    "type: hacks\n",
    "---"
   ]
  },
  {
   "cell_type": "markdown",
   "metadata": {},
   "source": [
    "# Introduction\n",
    "- In Java, there are two main types of data types primitive/value types and reference types.  \n",
    "\n",
    "# Reference Types\n",
    "\n",
    "## General Information\n",
    "- Reference types are a subclass of the java.lang.Object class.\n",
    "- Reference types can be defined by the user\n",
    "- When two references are assigned to each other the will both point to the same object in memory.\n",
    "- When objects are passed into an object the method changes the content of the object but not the location of the object in memory.\n",
    "- A reference type is a reference to the actual data, that is they allow for us to be able to access objects stored elsewhere in memory. What typically occurs when we create a reference type the object is stored onto the stack and the value that corresponds to the object is stored in the heap. For instance if we create a Cat class: "
   ]
  },
  {
   "cell_type": "code",
   "execution_count": 1,
   "metadata": {
    "vscode": {
     "languageId": "java"
    }
   },
   "outputs": [],
   "source": [
    "public class Cat {\n",
    "    String name;\n",
    "    int age;\n",
    "    String color;\n",
    "    String occupation;\n",
    "\n",
    "    public Cat(String name, int age, String color, String occupation) {\n",
    "        this.name = name;\n",
    "        this.age = age;\n",
    "        this.color = color;\n",
    "        this.occupation = occupation;\n",
    "    }\n",
    "}\n",
    "\n",
    "\n",
    "public static void main(String[] args) {\n",
    "    Cat MrTibbens = new Cat(\"Mr.Tibbens\", 3, \"Black\", new Occupation(\"World Domination\"));\n",
    "    Cat Khajiit = new Cat(\"Khajiit\", 5, \"White\", new Occupation(\"Thief\"));\n",
    "}"
   ]
  },
  {
   "cell_type": "markdown",
   "metadata": {},
   "source": [
    "- When we create the instances `MrTibbens` and `Khajiit` of the Cat class they are stored on the stack and the values that they represent however are stored in the heap which the reference is pointing to. So this would be their respective names, age, color, occupation, etc. The object in the stack is \"referring\" to the value stored in the stack. \n",
    "\n",
    "## Main Pre-declared Reference Types\n",
    "\n",
    "| Reference Type | Description |\n",
    "|----------|----------|\n",
    "| Annotation    | Provides a way to associate metadata (data about data) with program elements.     |\n",
    "| Array    | Provides a fixed-size data structure that stores data elements of the same type.    |\n",
    "| Class    | Designed to provide inheritance, polymorphism, and encapsulation. Usually models something in the real world and consists of a set of values that holds data and a set of methods that operates on the data. |\n",
    "| Enumeration    | A reference for a set of objects that represents a related set of choices.    |\n",
    "| Interface    | Provides a public API and is “implemented” by Java classes.    |\n",
    "\n",
    "\n",
    "*Source OREILLY\n",
    "\n",
    "### Example:"
   ]
  },
  {
   "cell_type": "code",
   "execution_count": 32,
   "metadata": {
    "vscode": {
     "languageId": "java"
    }
   },
   "outputs": [
    {
     "ename": "UnresolvedReferenceException",
     "evalue": "Attempt to use definition snippet with unresolved references in Snippet:ClassKey(refTest)#12-public class refTest{\n    public static class House{\n        private int price;\n        public House(int price){\n            this.price = price;\n        }\n        public void setPrice(int newPrice){\n            this.price = newPrice;\n        }\n        public int getPrice(){\n            return this.price;\n        }\n    }\n\n    public static void main(String[] args){\n        House house1 = new House();\n        house1.setPrice(500000); // setting house price to $500,000, accessing same spot in memory to change\n        System.out.println(\"Initial House Price: \" + \"$\" + house1.getPrice()); // printing the house price that was set\n    }\n}",
     "output_type": "error",
     "traceback": []
    }
   ],
   "source": [
    "public class refTest{\n",
    "    public static class House{\n",
    "        private int price;\n",
    "        public House(int price){\n",
    "            this.price = price;\n",
    "        }\n",
    "        public void setPrice(int newPrice){\n",
    "            this.price = newPrice;\n",
    "        }\n",
    "        public int getPrice(){\n",
    "            return this.price;\n",
    "        }\n",
    "    }\n",
    "\n",
    "    public static void main(String[] args){\n",
    "        House house1 = new House();\n",
    "        house1.setPrice(500000); // setting house price to $500,000, accessing same spot in memory to change\n",
    "        System.out.println(\"Initial House Price: \" + \"$\" + house1.getPrice()); // printing the house price that was set\n",
    "    }\n",
    "}\n",
    "refTest.main(null);"
   ]
  },
  {
   "cell_type": "code",
   "execution_count": 29,
   "metadata": {
    "vscode": {
     "languageId": "java"
    }
   },
   "outputs": [
    {
     "ename": "UnresolvedReferenceException",
     "evalue": "Attempt to use definition snippet with unresolved references in Snippet:ClassKey(refTest)#12-public class refTest{\n    public static class referenceVal{\n        public int House(int price) {\n            this.price = price;\n            return price;\n        }\n        public referenceVal(int price){\n            startPrice = price;\n        }\n        private int startPrice;\n        public void setPrice(int price){\n            startPrice = price;\n        }\n        public int getPrice(){\n            return startPrice;\n        }\n        public void changePrice(referenceVal House){\n            House.setPrice(10000000);\n        }\n    }\n\n    public static void main(String[] args){\n        referenceVal House = new referenceVal(0); // creating House object as reference value and defining putting initial price ($0)\n        House.setPrice(500000); // setting house price to $500,000, accessing same spot in memory to change\n        System.out.println(\"Initial House Price: \" + \"$\" + House.getPrice()); // printing the house price that was set\n\n        System.out.println(\"    \"); // white space :)\n\n        System.out.println(\"------ Changing the price attribute of House reference type ------ \"); // printing the updated house price\n        House.changePrice(House);\n        System.out.println(\"New House Price: \" + \"$\" + House.getPrice());\n\n        referenceVal House2 = new referenceVal(0);  // creating a new house object\n        House2 = House; // setting house2 = house, house2 refers to the same spot in memory as the first house\n        System.out.println(House2.getPrice()); // printing house2 price\n    }\n}",
     "output_type": "error",
     "traceback": [
      "\u001b[1m\u001b[30m|   \u001b[1m\u001b[30mpublic class refTest{\u001b[0m",
      "\u001b[1m\u001b[30m|   \u001b[1m\u001b[30m    public static class referenceVal{\u001b[0m",
      "\u001b[1m\u001b[30m|   \u001b[1m\u001b[30m        public int House(int price) {\u001b[0m",
      "\u001b[1m\u001b[30m|   \u001b[1m\u001b[30m            this.price = price;\u001b[0m",
      "\u001b[1m\u001b[30m|   \u001b[1m\u001b[30m            return price;\u001b[0m",
      "\u001b[1m\u001b[30m|   \u001b[1m\u001b[30m        }\u001b[0m",
      "\u001b[1m\u001b[30m|   \u001b[1m\u001b[30m        public referenceVal(int price){\u001b[0m",
      "\u001b[1m\u001b[30m|   \u001b[1m\u001b[30m            startPrice = price;\u001b[0m",
      "\u001b[1m\u001b[30m|   \u001b[1m\u001b[30m        }\u001b[0m",
      "\u001b[1m\u001b[30m|   \u001b[1m\u001b[30m        private int startPrice;\u001b[0m",
      "\u001b[1m\u001b[30m|   \u001b[1m\u001b[30m        public void setPrice(int price){\u001b[0m",
      "\u001b[1m\u001b[30m|   \u001b[1m\u001b[30m            startPrice = price;\u001b[0m",
      "\u001b[1m\u001b[30m|   \u001b[1m\u001b[30m        }\u001b[0m",
      "\u001b[1m\u001b[30m|   \u001b[1m\u001b[30m        public int getPrice(){\u001b[0m",
      "\u001b[1m\u001b[30m|   \u001b[1m\u001b[30m            return startPrice;\u001b[0m",
      "\u001b[1m\u001b[30m|   \u001b[1m\u001b[30m        }\u001b[0m",
      "\u001b[1m\u001b[30m|   \u001b[1m\u001b[30m        public void changePrice(referenceVal House){\u001b[0m",
      "\u001b[1m\u001b[30m|   \u001b[1m\u001b[30m            House.setPrice(10000000);\u001b[0m",
      "\u001b[1m\u001b[30m|   \u001b[1m\u001b[30m        }\u001b[0m",
      "\u001b[1m\u001b[30m|   \u001b[1m\u001b[30m    }\u001b[0m",
      "\u001b[1m\u001b[30m|   \u001b[1m\u001b[30m\u001b[0m",
      "\u001b[1m\u001b[30m|   \u001b[1m\u001b[30m    public static void main(String[] args){\u001b[0m",
      "\u001b[1m\u001b[30m|   \u001b[1m\u001b[30m        referenceVal House = new referenceVal(0); // creating House object as reference value and defining putting initial price ($0)\u001b[0m",
      "\u001b[1m\u001b[30m|   \u001b[1m\u001b[30m        House.setPrice(500000); // setting house price to $500,000, accessing same spot in memory to change\u001b[0m",
      "\u001b[1m\u001b[30m|   \u001b[1m\u001b[30m        System.out.println(\"Initial House Price: \" + \"$\" + House.getPrice()); // printing the house price that was set\u001b[0m",
      "\u001b[1m\u001b[30m|   \u001b[1m\u001b[30m\u001b[0m",
      "\u001b[1m\u001b[30m|   \u001b[1m\u001b[30m        System.out.println(\"    \"); // white space :)\u001b[0m",
      "\u001b[1m\u001b[30m|   \u001b[1m\u001b[30m\u001b[0m",
      "\u001b[1m\u001b[30m|   \u001b[1m\u001b[30m        System.out.println(\"------ Changing the price attribute of House reference type ------ \"); // printing the updated house price\u001b[0m",
      "\u001b[1m\u001b[30m|   \u001b[1m\u001b[30m        House.changePrice(House);\u001b[0m",
      "\u001b[1m\u001b[30m|   \u001b[1m\u001b[30m        System.out.println(\"New House Price: \" + \"$\" + House.getPrice());\u001b[0m",
      "\u001b[1m\u001b[30m|   \u001b[1m\u001b[30m\u001b[0m",
      "\u001b[1m\u001b[30m|   \u001b[1m\u001b[30m        referenceVal House2 = new referenceVal(0);  // creating a new house object\u001b[0m",
      "\u001b[1m\u001b[30m|   \u001b[1m\u001b[30m        House2 = House; // setting house2 = house, house2 refers to the same spot in memory as the first house\u001b[0m",
      "\u001b[1m\u001b[30m|   \u001b[1m\u001b[30m        System.out.println(House2.getPrice()); // printing house2 price\u001b[0m",
      "\u001b[1m\u001b[30m|   \u001b[1m\u001b[30m    }\u001b[0m",
      "\u001b[1m\u001b[30m|   \u001b[1m\u001b[30m}\u001b[0m",
      "\u001b[1m\u001b[31mUnresolved dependencies:\u001b[0m",
      "\u001b[1m\u001b[31m   - variable price\u001b[0m"
     ]
    }
   ],
   "source": [
    "public class refTest{\n",
    "    public static class referenceVal{\n",
    "        public int House(int price) {\n",
    "            this.price = price;\n",
    "            return price;\n",
    "        }\n",
    "        public referenceVal(int price){\n",
    "            startPrice = price;\n",
    "        }\n",
    "        private int startPrice;\n",
    "        public void setPrice(int price){\n",
    "            startPrice = price;\n",
    "        }\n",
    "        public int getPrice(){\n",
    "            return startPrice;\n",
    "        }\n",
    "        public void changePrice(referenceVal House){\n",
    "            House.setPrice(10000000);\n",
    "        }\n",
    "    }\n",
    "\n",
    "    public static void main(String[] args){\n",
    "        referenceVal House = new referenceVal(0); // creating House object as reference value and defining putting initial price ($0)\n",
    "        House.setPrice(500000); // setting house price to $500,000, accessing same spot in memory to change\n",
    "        System.out.println(\"Initial House Price: \" + \"$\" + House.getPrice()); // printing the house price that was set\n",
    "\n",
    "        System.out.println(\"    \"); // white space :)\n",
    "\n",
    "        System.out.println(\"------ Changing the price attribute of House reference type ------ \"); // printing the updated house price\n",
    "        House.changePrice(House);\n",
    "        System.out.println(\"New House Price: \" + \"$\" + House.getPrice());\n",
    "\n",
    "        referenceVal House2 = new referenceVal(0);  // creating a new house object\n",
    "        House2 = House; // setting house2 = house, house2 refers to the same spot in memory as the first house\n",
    "        System.out.println(House2.getPrice()); // printing house2 price\n",
    "    }\n",
    "}\n",
    "\n",
    "refTest.main(null);"
   ]
  },
  {
   "cell_type": "markdown",
   "metadata": {},
   "source": [
    "## Value Types\n",
    "\n",
    "# Differences \n",
    "| Reference Types | Primitive Types |\n",
    "|----------|----------|\n",
    "| Unlimited number of reference types, as they are defined by the user. | Consists of boolean and numeric types: char, byte, short, int, long, float, and double. |\n",
    "| Memory location stores a reference to the data. | Memory location stores actual data held by the primitive type. |\n",
    "| When a reference type is assigned to another reference type, both will point to the same object. | When a value of a primitive is assigned to another variable of the same type, a copy is made.    |\n",
    "| When an object is passed into a method, the called method can change the contents of the object passed to it but not the address of the object. | When a primitive is passed into a method, only a copy of the primitive is passed. The called method does not have access to the original primitive value and therefore cannot change it. The called method can change the copied value.|\n",
    "\n",
    "*Source OREILLY\n"
   ]
  }
 ],
 "metadata": {
  "kernelspec": {
   "display_name": "Java",
   "language": "java",
   "name": "java"
  },
  "language_info": {
   "codemirror_mode": "java",
   "file_extension": ".jshell",
   "mimetype": "text/x-java-source",
   "name": "Java",
   "pygments_lexer": "java",
   "version": "11.0.17+8-post-Ubuntu-1ubuntu222.04"
  }
 },
 "nbformat": 4,
 "nbformat_minor": 2
}
