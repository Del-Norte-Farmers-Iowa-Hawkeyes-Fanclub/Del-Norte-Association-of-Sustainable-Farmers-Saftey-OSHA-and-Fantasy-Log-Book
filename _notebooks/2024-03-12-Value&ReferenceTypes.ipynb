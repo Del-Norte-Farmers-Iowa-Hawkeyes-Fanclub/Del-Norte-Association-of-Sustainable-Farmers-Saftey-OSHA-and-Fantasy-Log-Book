{
 "cells": [
  {
   "cell_type": "markdown",
   "metadata": {},
   "source": [
    "---\n",
    "toc: true\n",
    "comments: true\n",
    "layout: notebook\n",
    "title: The difference between Value and Reference Types \n",
    "description: The difference in the application and use of Value and Reference types in Java.\n",
    "courses: { compsci: {week: 37} }\n",
    "type: hacks\n",
    "---"
   ]
  },
  {
   "cell_type": "markdown",
   "metadata": {},
   "source": [
    "# Introduction\n",
    "- In Java, there are two main types of data types primitive/value types and reference types.  \n",
    "\n",
    "# Reference Types\n",
    "\n",
    "## General Information\n",
    "- Reference types are a subclass of the java.lang.Object class.\n",
    "- Reference types can be defined by the user\n",
    "- When two references are assigned to each other the will both point to the same object in memory.\n",
    "- When objects are passed into an object the method changes the content of the object but not the location of the object in memory.\n",
    "- A reference type is a reference to the actual data, that is they allow for us to be able to access objects stored elsewhere in memory. What typically occurs when we create a reference type the object is stored onto the stack and the value that corresponds to the object is stored in the heap. For instance if we create a Cat class: "
   ]
  },
  {
   "cell_type": "code",
   "execution_count": 1,
   "metadata": {
    "vscode": {
     "languageId": "java"
    }
   },
   "outputs": [],
   "source": [
    "public class Cat {\n",
    "    String name;\n",
    "    int age;\n",
    "    String color;\n",
    "    String occupation;\n",
    "\n",
    "    public Cat(String name, int age, String color, String occupation) {\n",
    "        this.name = name;\n",
    "        this.age = age;\n",
    "        this.color = color;\n",
    "        this.occupation = occupation;\n",
    "    }\n",
    "}\n",
    "\n",
    "\n",
    "public static void main(String[] args) {\n",
    "    Cat MrTibbens = new Cat(\"Mr.Tibbens\", 3, \"Black\", new Occupation(\"World Domination\"));\n",
    "    Cat Khajiit = new Cat(\"Khajiit\", 5, \"White\", new Occupation(\"Thief\"));\n",
    "}"
   ]
  },
  {
   "cell_type": "markdown",
   "metadata": {},
   "source": [
    "- When we create the instances `MrTibbens` and `Khajiit` of the Cat class they are stored on the stack and the values that they represent however are stored in the heap which the reference is pointing to. So this would be their respective names, age, color, occupation, etc. The object in the stack is \"referring\" to the value stored in the stack. \n",
    "\n",
    "## Main Pre-declared Reference Types\n",
    "\n",
    "| Reference Type | Description |\n",
    "|----------|----------|\n",
    "| Annotation    | Provides a way to associate metadata (data about data) with program elements.     |\n",
    "| Array    | Provides a fixed-size data structure that stores data elements of the same type.    |\n",
    "| Class    | Designed to provide inheritance, polymorphism, and encapsulation. Usually models something in the real world and consists of a set of values that holds data and a set of methods that operates on the data. |\n",
    "| Enumeration    | A reference for a set of objects that represents a related set of choices.    |\n",
    "| Interface    | Provides a public API and is “implemented” by Java classes.    |\n",
    "\n",
    "\n",
    "*Source OREILLY\n"
   ]
  },
  {
   "cell_type": "markdown",
   "metadata": {},
   "source": [
    "## Value Types\n",
    "\n",
    "# Differences \n",
    "| Reference Types | Primitive Types |\n",
    "|----------|----------|\n",
    "| Unlimited number of reference types, as they are defined by the user. | Consists of boolean and numeric types: char, byte, short, int, long, float, and double. |\n",
    "| Memory location stores a reference to the data. | Memory location stores actual data held by the primitive type. |\n",
    "| When a reference type is assigned to another reference type, both will point to the same object. | When a value of a primitive is assigned to another variable of the same type, a copy is made.    |\n",
    "| When an object is passed into a method, the called method can change the contents of the object passed to it but not the address of the object. | When a primitive is passed into a method, only a copy of the primitive is passed. The called method does not have access to the original primitive value and therefore cannot change it. The called method can change the copied value.|\n",
    "\n",
    "*Source OREILLY\n"
   ]
  }
 ],
 "metadata": {
  "kernelspec": {
   "display_name": "Java",
   "language": "java",
   "name": "java"
  },
  "language_info": {
   "codemirror_mode": "java",
   "file_extension": ".jshell",
   "mimetype": "text/x-java-source",
   "name": "Java",
   "pygments_lexer": "java",
   "version": "21+35-LTS-2513"
  }
 },
 "nbformat": 4,
 "nbformat_minor": 2
}
