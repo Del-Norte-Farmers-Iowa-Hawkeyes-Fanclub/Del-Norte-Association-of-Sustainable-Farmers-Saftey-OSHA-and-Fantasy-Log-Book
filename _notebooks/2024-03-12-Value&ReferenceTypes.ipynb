{
 "cells": [
  {
   "cell_type": "markdown",
   "metadata": {},
   "source": [
    "---\n",
    "toc: true\n",
    "comments: true\n",
    "layout: notebook\n",
    "title: The difference between Value and Reference Types \n",
    "description: The difference in the application and use of Value and Reference types in Java.\n",
    "courses: { compsci: {week: 37} }\n",
    "type: hacks\n",
    "---"
   ]
  },
  {
   "cell_type": "markdown",
   "metadata": {},
   "source": [
    "# Introduction\n",
    "- In Java, there are two main types of data types primitive/value types and reference types.  \n",
    "\n",
    "## Reference Types\n",
    "- When a reference type are a reference to an object, that is they allow for us to be able to access those objects stored elsewhere in memory. What typically occurs when we create a reference type the object is stored onto the stack and the value that corresponds to the object is stored in the heap.  \n",
    "\n"
   ]
  },
  {
   "cell_type": "markdown",
   "metadata": {},
   "source": [
    "## Value Types\n",
    "- "
   ]
  }
 ],
 "metadata": {
  "kernelspec": {
   "display_name": "Java",
   "language": "java",
   "name": "java"
  },
  "language_info": {
   "name": "java"
  }
 },
 "nbformat": 4,
 "nbformat_minor": 2
}
