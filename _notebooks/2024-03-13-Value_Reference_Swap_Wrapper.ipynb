{
 "cells": [
  {
   "cell_type": "markdown",
   "metadata": {},
   "source": [
    "---\n",
    "toc: true\n",
    "comments: true\n",
    "layout: notebook\n",
    "title: The difference between Value and Reference Types \n",
    "description: The difference in the application and use of Value and Reference types in Java.\n",
    "courses: { compsci: {week: 37} }\n",
    "type: hacks\n",
    "---"
   ]
  },
  {
   "cell_type": "markdown",
   "metadata": {},
   "source": [
    "## Swap By Reference\n",
    "* The values of two Java variables are swapped without directly modifying the variables\n",
    "* When assigning variables, only the value is passed to the assigned variables\n",
    "\n",
    "Let's look at some examples!"
   ]
  },
  {
   "cell_type": "code",
   "execution_count": 9,
   "metadata": {
    "vscode": {
     "languageId": "java"
    }
   },
   "outputs": [
    {
     "name": "stdout",
     "output_type": "stream",
     "text": [
      "int1 before: 1 and int2 before: 2\n",
      "int1 after: 2 and int2 after: 1\n"
     ]
    }
   ],
   "source": [
    "public class SwapExample {\n",
    "\n",
    "    public static int[] swap(int int1, int int2) {//this code functions\n",
    "        int temp = int1;\n",
    "        int1 = int2;\n",
    "        int2 = temp;\n",
    "        int[] ints = {int1, int2};\n",
    "        return ints;\n",
    "    }\n",
    "\n",
    "    public static int[] badSwap(int int1, int int2) {//This one does not. Why? POPCORN HACK!!!!!\n",
    "        int1 = int2;\n",
    "        int2 = int1;\n",
    "        int[] ints = {int1, int2};\n",
    "        return ints;\n",
    "    }\n",
    "\n",
    "    public static void badSwap2(int int1, int int2) {//Bonus: Why might this method not work? Can you think of some ways to fix it?\n",
    "        int temp = int1;\n",
    "        int1 = int2;\n",
    "        int2 = temp;\n",
    "    }\n",
    "\n",
    "    public static void main(String[] args) {\n",
    "        int int1 = 1;\n",
    "        int int2 = 2;\n",
    "        System.out.println(\"int1 before: \" + int1 + \" and int2 before: \" + int2);\n",
    "        int[] ints = swap(int1, int2);\n",
    "        int1=ints[0];\n",
    "        int2=ints[1];\n",
    "        System.out.println(\"int1 after: \" + int1 + \" and int2 after: \" + int2);\n",
    "    }\n",
    "}\n",
    "SwapExample.main(null);\n"
   ]
  },
  {
   "cell_type": "markdown",
   "metadata": {},
   "source": [
    "## Hacks\n",
    "Finish the code below so that it runs! (Try not to look at the example above)"
   ]
  },
  {
   "cell_type": "code",
   "execution_count": null,
   "metadata": {
    "vscode": {
     "languageId": "java"
    }
   },
   "outputs": [],
   "source": [
    "public class SwapHacks {\n",
    "    //Add the swap method here\n",
    "\n",
    "    public static void main(String[] args) {\n",
    "        String string1 = \"apples\";\n",
    "        String string2 = \"oranges\";\n",
    "        //print something here!\n",
    "    }\n",
    "}"
   ]
  }
 ],
 "metadata": {
  "kernelspec": {
   "display_name": "Java",
   "language": "java",
   "name": "java"
  },
  "language_info": {
   "codemirror_mode": "java",
   "file_extension": ".jshell",
   "mimetype": "text/x-java-source",
   "name": "Java",
   "pygments_lexer": "java",
   "version": "21.0.2+13-LTS"
  }
 },
 "nbformat": 4,
 "nbformat_minor": 2
}
