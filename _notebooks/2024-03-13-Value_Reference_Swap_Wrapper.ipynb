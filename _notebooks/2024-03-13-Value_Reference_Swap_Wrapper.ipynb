{
 "cells": [
  {
   "cell_type": "markdown",
   "metadata": {},
   "source": [
    "---\n",
    "toc: true\n",
    "comments: true\n",
    "layout: notebook\n",
    "title: The difference between Value and Reference Types \n",
    "description: The difference in the application and use of Value and Reference types in Java.\n",
    "courses: { compsci: {week: 37} }\n",
    "type: hacks\n",
    "---"
   ]
  },
  {
   "cell_type": "markdown",
   "metadata": {},
   "source": [
    "## Swap By Reference\n",
    "* The values of two Java variables are swapped without directly modifying the variables\n",
    "* When assigning variables, only the value is passed to the assigned variables\n",
    "\n",
    "Let's look at some examples!"
   ]
  },
  {
   "cell_type": "code",
   "execution_count": 9,
   "metadata": {
    "vscode": {
     "languageId": "java"
    }
   },
   "outputs": [
    {
     "name": "stdout",
     "output_type": "stream",
     "text": [
      "int1 before: 1 and int2 before: 2\n",
      "int1 after: 2 and int2 after: 1\n"
     ]
    }
   ],
   "source": [
    "public class SwapExample {\n",
    "\n",
    "    public static int[] swap(int int1, int int2) {//this code functions\n",
    "        int temp = int1;\n",
    "        int1 = int2;\n",
    "        int2 = temp;\n",
    "        int[] ints = {int1, int2};\n",
    "        return ints;\n",
    "    }\n",
    "\n",
    "    public static int[] badSwap(int int1, int int2) {//This one does not. Why? POPCORN HACK!!!!!\n",
    "        int1 = int2;\n",
    "        int2 = int1;\n",
    "        int[] ints = {int1, int2};\n",
    "        return ints;\n",
    "    }\n",
    "\n",
    "    public static void badSwap2(int int1, int int2) {//Bonus: Why might this method not work? Can you think of some ways to fix it?\n",
    "        int temp = int1;\n",
    "        int1 = int2;\n",
    "        int2 = temp;\n",
    "    }\n",
    "\n",
    "    public static void main(String[] args) {\n",
    "        int int1 = 1;\n",
    "        int int2 = 2;\n",
    "        System.out.println(\"int1 before: \" + int1 + \" and int2 before: \" + int2);\n",
    "        int[] ints = swap(int1, int2);\n",
    "        int1=ints[0];\n",
    "        int2=ints[1];\n",
    "        System.out.println(\"int1 after: \" + int1 + \" and int2 after: \" + int2);\n",
    "    }\n",
    "}\n",
    "SwapExample.main(null);\n"
   ]
  },
  {
   "cell_type": "markdown",
   "metadata": {},
   "source": [
    "## Hacks\n",
    "Finish the code below so that it runs! (Try not to look at the example above)"
   ]
  },
  {
   "cell_type": "code",
   "execution_count": null,
   "metadata": {
    "vscode": {
     "languageId": "java"
    }
   },
   "outputs": [],
   "source": [
    "public class SwapHacks {\n",
    "    //Add the swap method here\n",
    "\n",
    "    public static void main(String[] args) {\n",
    "        String string1 = \"apples\";\n",
    "        String string2 = \"oranges\";\n",
    "        //print something here!\n",
    "    }\n",
    "}"
   ]
  },
  {
   "cell_type": "markdown",
   "metadata": {},
   "source": [
    "# Wrapper Classes\n",
    "\n",
    "### What Are Wrapper Classes?\n",
    "Wrapper classes are classes that encapsualte (or wrap) primitive types. This allows for primitive data types to be used as objects. \n",
    "\n",
    "### Real Quick... What Are Primitive Types?\n",
    "Primitive data types are a set of basic data types from which all other data types are constructed. Primitive types are special data types built into the language; they are not objects created from a class.\n",
    "\n",
    "### Why Is This Useful?\n",
    "Wrapper classes must be used in order to store primitive types in Collections such as an ArrayList, which are only equipped to store objects.\n",
    "\n",
    "### What Are Some Examples Of Wrappers?\n",
    "Here's a table that shows primitive types and their equivalent wrapper class:\n",
    "\n",
    " Primitive Type | Wrapper Class |\n",
    "|--------|-----------|\n",
    "| byte | Byte | \n",
    "| short | Short |\n",
    "| int | Integer |\n",
    "| long | Long |\n",
    "| float | Float |\n",
    "| double | Double |\n",
    "| boolean | Boolean |\n",
    "| char | Character |\n",
    "\n",
    "### How Do We Create A Wrapper Object?\n",
    "To create a wrapper object, you simply use the Wrapper class for the return type of your variable. For example...\n",
    "```java\n",
    "Integer grade = 11;\n",
    "Double GPA = 3.5;\n",
    "Character gradeLetter = 'A';\n",
    "```\n",
    "Look familiar? By using the wrapper class here, we are able to store these values into various collections that only take objects, such as an ArrayList.\n",
    "\n",
    "\n",
    "You can get information about a specific wrapper object by using these functions:\n",
    "```java\n",
    "intValue()\n",
    "byteValue() \n",
    "shortValue()\n",
    "longValue()\n",
    "floatValue()\n",
    "doubleValue()\n",
    "charValue()\n",
    "booleanValue()\n",
    "```\n",
    "\n",
    "You can also convert a wrapper object to a string using ```toString()```\n",
    "\n",
    "### Hacks\n",
    "Now that you learned what wrapper classes are and ways to use them, it's time to implement them!\n",
    "\n",
    "a) Create a variable which is a double, and use what you've learned to turn that double into a string and print the length of the string.\n",
    "\n",
    "b) Provide an example of a wrapper object from your team project. If you don't have an example of a wrapper object ANYWHERE in your project, explain how you could implement them below:"
   ]
  },
  {
   "cell_type": "markdown",
   "metadata": {},
   "source": []
  }
 ],
 "metadata": {
  "kernelspec": {
   "display_name": "Java",
   "language": "java",
   "name": "java"
  },
  "language_info": {
   "codemirror_mode": "java",
   "file_extension": ".jshell",
   "mimetype": "text/x-java-source",
   "name": "Java",
   "pygments_lexer": "java",
   "version": "21.0.2+13-LTS"
  }
 },
 "nbformat": 4,
 "nbformat_minor": 2
}
