{
 "cells": [
  {
   "cell_type": "code",
   "execution_count": 30,
   "metadata": {
    "vscode": {
     "languageId": "java"
    }
   },
   "outputs": [
    {
     "name": "stdout",
     "output_type": "stream",
     "text": [
      "------ Setting the price attribute of House reference type ------ \n",
      "Initial House Price: $500000\n",
      "    \n",
      "------ Changing the price attribute of House reference type ------ \n",
      "New House Price: $10000000\n"
     ]
    }
   ],
   "source": [
    "\n",
    "public class refTest{\n",
    "    public static class referenceVal{\n",
    "        public referenceVal(int price){\n",
    "            startPrice = price;\n",
    "        }\n",
    "        private int startPrice;\n",
    "        public void setPrice(int price){\n",
    "            startPrice = price;\n",
    "        }\n",
    "        public int getPrice(){\n",
    "            return startPrice;\n",
    "        }\n",
    "        public void changePrice(referenceVal House){\n",
    "            House.setPrice(10000000);\n",
    "        }\n",
    "    }\n",
    "\n",
    "    public static void main(String[] args){\n",
    "        System.out.println(\"------ Setting the price attribute of House reference type ------ \");\n",
    "        referenceVal House = new referenceVal(0);\n",
    "        House.setPrice(500000);\n",
    "        System.out.println(\"Initial House Price: \" + \"$\" + House.getPrice()); // printing the house price that was set\n",
    "\n",
    "        System.out.println(\"    \"); // white space :)\n",
    "\n",
    "        System.out.println(\"------ Changing the price attribute of House reference type ------ \"); // printing the updated house price\n",
    "        House.changePrice(House);\n",
    "        System.out.println(\"New House Price: \" + \"$\" + House.getPrice());\n",
    "    }\n",
    "}\n",
    "\n",
    "refTest.main(null);"
   ]
  }
 ],
 "metadata": {
  "kernelspec": {
   "display_name": "Java",
   "language": "java",
   "name": "java"
  },
  "language_info": {
   "codemirror_mode": "java",
   "file_extension": ".jshell",
   "mimetype": "text/x-java-source",
   "name": "Java",
   "pygments_lexer": "java",
   "version": "11.0.17+8-post-Ubuntu-1ubuntu222.04"
  }
 },
 "nbformat": 4,
 "nbformat_minor": 2
}
